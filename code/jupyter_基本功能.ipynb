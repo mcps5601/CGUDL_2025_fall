{
  "cells": [
    {
      "cell_type": "markdown",
      "metadata": {
        "id": "zYt1V3F1ztmL"
      },
      "source": [
        "# Jupyter 基本功能\n",
        "\n",
        "## 教學目標\n",
        "\n",
        "這份教學的目標是介紹 jupyter notebook 以及 Colab 環境，包含簡單的編輯與操作。\n",
        "\n",
        "## 適用對象\n",
        "\n",
        "剛開始學習 Python，正在安裝開發環境的學生。\n",
        "\n",
        "## 測試環境\n",
        "\n",
        "Google Colab"
      ]
    },
    {
      "cell_type": "markdown",
      "metadata": {
        "id": "mSybCrhzztmO"
      },
      "source": [
        "## 大綱\n",
        "\n",
        "- [簡介](#簡介)\n",
        "- [啟動 jupyter](#啟動-jupyter)\n",
        "- [基本功能與操作](#基本功能與操作)\n",
        "- [進階功能與操作](#進階功能與操作)\n",
        "- [儲存](#儲存)\n",
        "- [關閉](#關閉)"
      ]
    },
    {
      "cell_type": "markdown",
      "metadata": {
        "id": "H-CGOZkkztmO"
      },
      "source": [
        "## 簡介\n",
        "\n",
        "[jupyter](https://jupyter.org/) 是基於 ipython 所開發的工具，以瀏覽器提供圖形介面作為開發環境，並以互動模式進行 python 程式開發與撰寫。\n",
        "\n",
        "![jupyter](https://jupyter.readthedocs.io/en/latest/_images/notebook_components.png)\n",
        "\n",
        "基於 juypter 的開發環境有：\n",
        "\n",
        "- [Kaggle Notebooks](https://www.kaggle.com/notebooks)\n",
        "- [Google Colaboratory](https://colab.research.google.com/notebooks/intro.ipynb)\n",
        "\n",
        "課堂中的所有教學都會以 jupyter 為主，所有的程式都會以 `.ipynb` 的格式開源 [source code](https://github.com/IKMLab/course_material)，並放在 [GitHub](https://github.com/IKMLab) 上讓大家下載。\n",
        "\n",
        "若要取得更多資訊，請參考：\n",
        "https://github.com/IKMLab/course_material"
      ]
    },
    {
      "cell_type": "markdown",
      "metadata": {
        "id": "P8z0U8mG0RId"
      },
      "source": [
        "## Colab 的系統\n",
        "- 如果你執行以下指令：\n",
        "```sh\n",
        "!cat /etc/*release\n",
        "```\n",
        "- 會得到以下輸出，會發現其實Colab的後端是一個 Ubuntu 系統 (**Linux**)\n",
        "- 也因此，在 Colab 環境中，於程式格中輸出 Linux 指令加驚嘆號 (如`!cat`) 即可執行 Linux 指令 ([常見指令](https://linux.vbird.org/linux_basic/redhat6.1/linux_06command.php))\n",
        "```\n",
        "DISTRIB_ID=Ubuntu\n",
        "DISTRIB_RELEASE=22.04\n",
        "DISTRIB_CODENAME=jammy\n",
        "DISTRIB_DESCRIPTION=\"Ubuntu 22.04.4 LTS\"\n",
        "PRETTY_NAME=\"Ubuntu 22.04.4 LTS\"\n",
        "NAME=\"Ubuntu\"\n",
        "VERSION_ID=\"22.04\"\n",
        "VERSION=\"22.04.4 LTS (Jammy Jellyfish)\"\n",
        "VERSION_CODENAME=jammy\n",
        "ID=ubuntu\n",
        "ID_LIKE=debian\n",
        "HOME_URL=\"https://www.ubuntu.com/\"\n",
        "SUPPORT_URL=\"https://help.ubuntu.com/\"\n",
        "BUG_REPORT_URL=\"https://bugs.launchpad.net/ubuntu/\"\n",
        "PRIVACY_POLICY_URL=\"https://www.ubuntu.com/legal/terms-and-policies/privacy-policy\"\n",
        "UBUNTU_CODENAME=jammy\n",
        "```"
      ]
    },
    {
      "cell_type": "markdown",
      "metadata": {
        "id": "SDWSmuYuztmO"
      },
      "source": [
        "## 啟動 jupyter (補充，Colab 環境不適用)\n",
        "\n",
        "1. 開啟終端機\n",
        "2. 在終端機透過 python 的安裝工具 `pip` 安裝 `jupyter`\n",
        "    ```sh\n",
        "    pip install jupyter\n",
        "    ```\n",
        "3. 安裝 `jupyter` 後在終端機輸入以下指令\n",
        "    ```sh\n",
        "    jupyter notebook\n",
        "    ```\n",
        "4. 此時瀏覽器會自動跳出 `jupyter` 頁面，網址為 http://localhost:8888/tree\n",
        "5. 開啟已經存在的 `.ipynb` 檔或是新增，完成啟動 jupyter 的步驟"
      ]
    },
    {
      "cell_type": "markdown",
      "metadata": {
        "id": "1hNdOKgNztmO"
      },
      "source": [
        "## 基本功能與操作\n",
        "\n",
        "為了讓撰寫的程式容易閱讀與理解，jupyter 提供了兩種編輯區塊（cell）：\n",
        "\n",
        "- python 區塊\n",
        "    - 撰解 python 程式碼\n",
        "    - 透過 ipython 直接執行 python 程式碼\n",
        "    - 支援即時繪圖\n",
        "- markdown 區塊\n",
        "    - 支援撰寫 markdown 文件\n",
        "    - 支援 mathjax 方便撰寫數學符號\n",
        "    - 支援即時渲染 markdown 文件\n",
        "\n",
        "### 編輯區塊\n",
        "\n",
        "編輯區塊的方法為\n",
        "\n",
        "1. 找到想要編輯的區塊\n",
        "2. 以滑鼠雙擊便可進行編輯\n",
        "3. 編輯完成後在鍵盤上按下 `Shift + Enter` 便可執行\n",
        "\n",
        "### 新增區塊\n",
        "\n",
        "新增區塊的方法為\n",
        "\n",
        "1. 找到想要新增區塊的位置\n",
        "2. 以滑鼠單擊想要新增位置的前一區塊\n",
        "3. 在上方點擊`+ Code`按鈕插入Python Cell 或點擊 `+ Text`按鈕插入Markdown Cell\n",
        "\n",
        "### 執行區塊\n",
        "\n",
        "1. 找到想要執行的區塊\n",
        "2. 以滑鼠單擊想要執行的區塊\n",
        "3. 點擊左邊 `▶️ 播放按鈕` 或鍵盤按下`Cmd/Ctrl + Shift + Enter`\n",
        "\n",
        "### 刪除區塊\n",
        "\n",
        "1. 找到想要刪除的區塊\n",
        "2. 以滑鼠單擊想要刪除的區塊\n",
        "3. 在cell右上角點擊點擊 `🗑  垃圾桶符號` 或鍵盤按下 `Ctrl + M + D`"
      ]
    },
    {
      "cell_type": "code",
      "execution_count": null,
      "metadata": {
        "id": "52KpPD82ztmO"
      },
      "outputs": [],
      "source": [
        "# 試著執行此 python 區塊的程式碼\n",
        "\n",
        "print('hello world')"
      ]
    },
    {
      "cell_type": "code",
      "execution_count": null,
      "metadata": {
        "id": "1aw6drqtztmP"
      },
      "outputs": [],
      "source": [
        "# 試著編輯此 python 區塊的程式碼，使其輸出為 hello world\n",
        "\n",
        "print('hello w___d')"
      ]
    },
    {
      "cell_type": "markdown",
      "metadata": {
        "id": "UvZeqYGxztmP"
      },
      "source": [
        "### 試著編輯此 markdown 區塊，使其輸出為 hello world\n",
        "\n",
        "hello w___d"
      ]
    },
    {
      "cell_type": "markdown",
      "metadata": {
        "id": "OCgVIiS0ztmQ"
      },
      "source": [
        "### 試著刪除此 markdown 區塊\n",
        "\n",
        "<br/>\n",
        "<br/>\n",
        "<br/>\n",
        "<br/>\n",
        "<br/>\n",
        "<br/>"
      ]
    },
    {
      "cell_type": "markdown",
      "metadata": {
        "id": "RV8SFcDhztmR"
      },
      "source": [
        "## 進階功能與操作\n",
        "\n",
        "### 執行所有區塊\n",
        "\n",
        "1. 在上方工具列依序按下 `Runtime` &gt; `Run All`\n",
        "2. `jupyter` 會依照由上至下的順序執行所有的區塊\n",
        "\n",
        "### 不需要按照順序執行\n",
        "\n",
        "如果你想要先執行區塊 A 再執行區塊 B，則只要確保兩者沒有相依關係即可。\n",
        "\n",
        "### 重新啟動執行環境\n",
        "\n",
        "在上方工具列依序按下 `Runtime` &gt; `Restart Runtime`\n",
        "\n",
        "### MathJax\n",
        "\n",
        "若需要以數學式子進行程式描述，則只要以 `$` 作為起始與結束的符號，直接撰寫 Tex 即可。\n",
        "例如：$\\frac{-b \\pm \\sqrt{b^2 - 4ac}}{2a}$\n",
        "\n",
        "若希望數學式獨立一個區塊，則使用 `$$` 作為起始與結束的符號，直接撰寫 Tex 即可。\n",
        "例如：\n",
        "\n",
        "$$\n",
        "\\int_{-\\infty}^{\\infty} \\frac{1}{\\sigma \\sqrt{2\\pi}} e^{- \\frac{(x - \\mu)^2}{2 \\sigma^2}} = 1\n",
        "$$\n",
        "\n",
        "### 繪圖\n",
        "\n",
        "`jupyter` 能夠將 `matplotlib` 所輸出的圖即時以 `<canvas>` 的方式呈獻在 `.ipynb` 中。\n",
        "請執行下方的 python 區塊觀看範例。"
      ]
    },
    {
      "cell_type": "code",
      "execution_count": null,
      "metadata": {
        "id": "Zshwn-UVztmR"
      },
      "outputs": [],
      "source": [
        "import matplotlib.pyplot as plt\n",
        "\n",
        "x = [1, 2, 3]\n",
        "y = [4, 5, 6]\n",
        "\n",
        "plt.plot(x, y)\n",
        "plt.show()"
      ]
    },
    {
      "cell_type": "markdown",
      "metadata": {
        "id": "2zJlaYKDztmR"
      },
      "source": [
        "## 儲存\n",
        "\n",
        "`jupyter` 能夠將**執行順序**與**輸出結果**紀錄下來，方便重複觀看過往的執行紀錄。\n",
        "\n",
        "`jupyter` **不能夠**將**執行狀態**紀錄下來，一旦關閉了 `jupyter` 服務或是關閉當前 `.ipynb` 的 session 就必須重新執行程式。\n",
        "\n",
        "1. 在上方工具列依序按下 `File` &gt; `Save` 或 鍵盤輸入 `Cmd/Ctrl + S`\n",
        "2. `jupyter` 會將執行順序與輸出結果紀錄在當前的 `.ipynb`\n",
        "3. `jupyter` 會將執行狀態紀錄在名為 `.ipynb_checkpoints`"
      ]
    },
    {
      "cell_type": "markdown",
      "metadata": {
        "id": "VPFNQCbSztmS"
      },
      "source": [
        "## 關閉\n",
        "\n",
        "每個 `.ipynb` 都會獨立佔有一個 session，必須手動關閉，否則 session 不會停止且佔用計算資源。\n",
        "\n",
        "1. 在上方工具列依序按下 `Runtime` &gt; `Disconnect and delete runtime`\n",
        "2. `jupyter` 會停止當前 `.ipynb` 的執行 session\n",
        "3. 關閉當前瀏覽器頁面"
      ]
    }
  ],
  "metadata": {
    "colab": {
      "provenance": [],
      "toc_visible": true
    },
    "kernelspec": {
      "display_name": "Python 3",
      "language": "python",
      "name": "python3"
    },
    "language_info": {
      "codemirror_mode": {
        "name": "ipython",
        "version": 3
      },
      "file_extension": ".py",
      "mimetype": "text/x-python",
      "name": "python",
      "nbconvert_exporter": "python",
      "pygments_lexer": "ipython3",
      "version": "3.8.5"
    }
  },
  "nbformat": 4,
  "nbformat_minor": 0
}
