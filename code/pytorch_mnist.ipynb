{
  "cells": [
    {
      "cell_type": "markdown",
      "metadata": {
        "id": "tecBWNELRYYj"
      },
      "source": [
        "# The complete training and evaluation process with PyTorch\n",
        "\n",
        "## 學習目標\n",
        "- 我們已經學過 Gradient Descent, Backpropagation, 以及更進階的梯度下降最佳化方法 (如 SGD, Adam 等)\n",
        "- 因此我們接下來要實作一個完整的神經網路訓練流程，同時也將介紹評估流程"
      ]
    },
    {
      "cell_type": "markdown",
      "metadata": {
        "id": "9bVK2wRBSVPm"
      },
      "source": [
        "## 測試現在這個 Colab 環境是否已經使用 GPU\n",
        "- 否則等下可能會需要重新啟動 Colab 環境"
      ]
    },
    {
      "cell_type": "code",
      "execution_count": null,
      "metadata": {
        "colab": {
          "base_uri": "https://localhost:8080/"
        },
        "id": "G4pZ2YqXRT_B",
        "outputId": "235ff35f-73ef-4e99-a5b3-75d4e9f99b0d"
      },
      "outputs": [
        {
          "output_type": "execute_result",
          "data": {
            "text/plain": [
              "True"
            ]
          },
          "metadata": {},
          "execution_count": 1
        }
      ],
      "source": [
        "import torch\n",
        "torch.cuda.is_available() # 結果需要顯示為 True"
      ]
    },
    {
      "cell_type": "markdown",
      "metadata": {
        "id": "gEFJ2Wb7S5cw"
      },
      "source": [
        "## PyTorch 常用套件\n",
        "\n",
        "| 套件名稱 | 主要內容 |\n",
        "|-|-|\n",
        "|[`torch.nn as nn`](https://pytorch.org/docs/stable/nn.html) | 與模型架構相關的函數，包含各種層與目標函數的實作 |\n",
        "|[`torch.optim`](https://pytorch.org/docs/stable/optim.html) | 與模型最佳化有相關的函數 (optim: optimization) |\n",
        "|[`torchvision`](https://pytorch.org/vision/stable/index.html) | 與電腦視覺 (影像) 任務有相關的函數 |\n",
        "|[`torchvision.transforms`](https://pytorch.org/vision/0.9/transforms.html) | 幫助進行影像資料前處理的函數 |"
      ]
    },
    {
      "cell_type": "code",
      "execution_count": null,
      "metadata": {
        "id": "VLATNhzVRaLa"
      },
      "outputs": [],
      "source": [
        "# 引入本教學所需要的套件\n",
        "\n",
        "import torch.nn as nn\n",
        "import torch.optim as optim\n",
        "import torchvision\n",
        "import torchvision.transforms as transforms\n",
        "\n",
        "import matplotlib.pyplot as plt\n",
        "from sklearn.model_selection import train_test_split\n",
        "from sklearn.metrics import accuracy_score\n",
        "from tqdm import tqdm"
      ]
    },
    {
      "cell_type": "markdown",
      "metadata": {
        "id": "8JvjHfnmm5Fr"
      },
      "source": [
        "## 載入資料\n",
        "- 本教學使用的是 MNIST 手寫字辨識資料集 (by [Yann LeCun](http://yann.lecun.com/exdb/mnist/))\n",
        "\n",
        "![MNIST](https://upload.wikimedia.org/wikipedia/commons/b/b1/MNIST_dataset_example.png)"
      ]
    },
    {
      "cell_type": "markdown",
      "metadata": {
        "id": "g3eIzz6Zm5Fs"
      },
      "source": [
        "## 觀察資料"
      ]
    },
    {
      "cell_type": "code",
      "execution_count": null,
      "metadata": {
        "id": "4BrWEENOm5Fu",
        "outputId": "7782c302-8b0a-4af3-dd93-c37af77e53c7",
        "colab": {
          "base_uri": "https://localhost:8080/"
        }
      },
      "outputs": [
        {
          "output_type": "stream",
          "name": "stderr",
          "text": [
            "100%|██████████| 9.91M/9.91M [00:00<00:00, 18.3MB/s]\n",
            "100%|██████████| 28.9k/28.9k [00:00<00:00, 492kB/s]\n",
            "100%|██████████| 1.65M/1.65M [00:00<00:00, 4.54MB/s]\n",
            "100%|██████████| 4.54k/4.54k [00:00<00:00, 8.19MB/s]"
          ]
        },
        {
          "output_type": "stream",
          "name": "stdout",
          "text": [
            "image 的資料格式為: <class 'PIL.Image.Image'>\n"
          ]
        },
        {
          "output_type": "stream",
          "name": "stderr",
          "text": [
            "\n"
          ]
        }
      ],
      "source": [
        "# 載入 MNIST 資料\n",
        "# `train=False` 代表載入 test 資料\n",
        "tmp = torchvision.datasets.MNIST(root=\"./data\", train=False, download=True)\n",
        "\n",
        "# 取得第一張圖片和標籤\n",
        "image, label = tmp[0]\n",
        "print(f\"image 的資料格式為: {type(image)}\")"
      ]
    },
    {
      "cell_type": "code",
      "execution_count": null,
      "metadata": {
        "id": "suMsFPJwm5Fu",
        "outputId": "9fdd3baa-dc80-48c8-95d9-9bd00a7e6ccd",
        "colab": {
          "base_uri": "https://localhost:8080/",
          "height": 45
        }
      },
      "outputs": [
        {
          "output_type": "execute_result",
          "data": {
            "text/plain": [
              "<PIL.Image.Image image mode=L size=28x28>"
            ],
            "image/png": "[encoded data removed]",
            "image/jpeg": "[encoded data removed]"
          },
          "metadata": {},
          "execution_count": 4
        }
      ],
      "source": [
        "# Jupyter Notebook 內建支援顯示 PIL 影像\n",
        "# 所以直接輸入在程式格中執行後會自動顯示原始影像\n",
        "\n",
        "image"
      ]
    },
    {
      "cell_type": "code",
      "execution_count": null,
      "metadata": {
        "id": "8Fwej25Xm5Fw",
        "outputId": "c875cd34-5073-479e-8906-3221b41e544d",
        "colab": {
          "base_uri": "https://localhost:8080/",
          "height": 448
        }
      },
      "outputs": [
        {
          "output_type": "execute_result",
          "data": {
            "text/plain": [
              "<matplotlib.image.AxesImage at 0x7e4d44f79ac0>"
            ]
          },
          "metadata": {},
          "execution_count": 5
        },
        {
          "output_type": "display_data",
          "data": {
            "text/plain": [
              "<Figure size 640x480 with 1 Axes>"
            ],
            "image/png": "[encoded data removed]"
          },
          "metadata": {}
        }
      ],
      "source": [
        "# maplotlib 的 imshow 功能可以顯示 PIL 影像\n",
        "# 但如果是灰階影像的話，它會幫套上 colormap，所以看起來很像彩色影像\n",
        "\n",
        "plt.imshow(image)\n",
        "# plt.imshow(image, cmap=\"gray\") # 若資料是灰階影像，應加上 cmap=\"gray\""
      ]
    },
    {
      "cell_type": "code",
      "execution_count": null,
      "metadata": {
        "id": "asZDvkxploWa",
        "outputId": "7c9fbab3-b27f-4aba-b773-dda59f04a9b5",
        "colab": {
          "base_uri": "https://localhost:8080/"
        }
      },
      "outputs": [
        {
          "output_type": "stream",
          "name": "stdout",
          "text": [
            "image 的資料格式為: <class 'torch.Tensor'>\n"
          ]
        }
      ],
      "source": [
        "# 觀察有進行 ToTensor() 後的資料\n",
        "transform = transforms.Compose(\n",
        "    [\n",
        "        transforms.ToTensor(),\n",
        "    ]\n",
        ")\n",
        "trainset = torchvision.datasets.MNIST(\n",
        "    root='./data',\n",
        "    train=True,\n",
        "    download=True,\n",
        "    transform=transform,\n",
        ")\n",
        "\n",
        "# 取得第一張圖片和標籤\n",
        "image, label = trainset[0]\n",
        "print(f\"image 的資料格式為: {type(image)}\")"
      ]
    },
    {
      "cell_type": "code",
      "execution_count": null,
      "metadata": {
        "colab": {
          "base_uri": "https://localhost:8080/"
        },
        "id": "amxP7s3JnVaY",
        "outputId": "1f394e7e-dd26-4363-cf72-eb995eab3685"
      },
      "outputs": [
        {
          "output_type": "execute_result",
          "data": {
            "text/plain": [
              "torch.Size([1, 28, 28])"
            ]
          },
          "metadata": {},
          "execution_count": 7
        }
      ],
      "source": [
        "image.shape"
      ]
    },
    {
      "cell_type": "code",
      "execution_count": null,
      "metadata": {
        "colab": {
          "base_uri": "https://localhost:8080/",
          "height": 448
        },
        "id": "vce_8r-ZmP_R",
        "outputId": "9a10497f-06d4-43cb-b46c-7e3ae6a5517c"
      },
      "outputs": [
        {
          "output_type": "execute_result",
          "data": {
            "text/plain": [
              "<matplotlib.image.AxesImage at 0x7e4d44f45fd0>"
            ]
          },
          "metadata": {},
          "execution_count": 8
        },
        {
          "output_type": "display_data",
          "data": {
            "text/plain": [
              "<Figure size 640x480 with 1 Axes>"
            ],
            "image/png": "[encoded data removed]"
          },
          "metadata": {}
        }
      ],
      "source": [
        "plt.imshow(image.squeeze(), cmap=\"gray\")"
      ]
    },
    {
      "cell_type": "markdown",
      "metadata": {
        "id": "RwjBaXTDm5Fw"
      },
      "source": [
        "## 建立模型"
      ]
    },
    {
      "cell_type": "code",
      "source": [
        "MODEL_NAME = \"resnet-18\" # or \"resnet-18"
      ],
      "metadata": {
        "id": "--4Nvhy6S6kN"
      },
      "execution_count": null,
      "outputs": []
    },
    {
      "cell_type": "code",
      "execution_count": null,
      "metadata": {
        "id": "eAG97vIumtRO"
      },
      "outputs": [],
      "source": [
        "# 定義 MLP 模型\n",
        "class MLP(nn.Module):\n",
        "    def __init__(self):\n",
        "        super().__init__() # 繼承 nn.Module 類別的初始化函數\n",
        "        hidden_size1 = 256 # 第一層隱藏層的神經元數量\n",
        "        hidden_size2 = 128 # 第二層隱藏層的神經元數量\n",
        "\n",
        "        self.layer_1 = nn.Linear(28*28, hidden_size1)\n",
        "        self.layer_2 = nn.Linear(256, hidden_size2)\n",
        "        self.relu = nn.ReLU() # 非線性轉換\n",
        "        self.cls_layer = nn.Linear(hidden_size2, 10)\n",
        "\n",
        "    def forward(self, x):\n",
        "        x = x.view(-1, 28*28) # 將輸入的 x 轉為 28*28 的形狀 (因為 transform.ToTensor() 會把圖片轉為 1*28*28)\n",
        "        x = self.relu(self.layer_1(x))\n",
        "        x = self.relu(self.layer_2(x))\n",
        "        x = self.cls_layer(x)\n",
        "        return x"
      ]
    },
    {
      "cell_type": "code",
      "source": [
        "# 初始化模型\n",
        "\n",
        "if MODEL_NAME == \"resnet-18\":\n",
        "    model = torchvision.models.resnet18(pretrained=True)\n",
        "    model.fc = nn.Linear(512, 10)\n",
        "elif MODEL_NAME == \"MLP\":\n",
        "    model = MLP()\n",
        "else:\n",
        "    raise NotImplementedError"
      ],
      "metadata": {
        "id": "lw8-cVSzYB-_",
        "colab": {
          "base_uri": "https://localhost:8080/"
        },
        "outputId": "ae15165d-5126-43dd-8e40-d045abfbccb7"
      },
      "execution_count": null,
      "outputs": [
        {
          "output_type": "stream",
          "name": "stderr",
          "text": [
            "/usr/local/lib/python3.12/dist-packages/torchvision/models/_utils.py:208: UserWarning: The parameter 'pretrained' is deprecated since 0.13 and may be removed in the future, please use 'weights' instead.\n",
            "  warnings.warn(\n",
            "/usr/local/lib/python3.12/dist-packages/torchvision/models/_utils.py:223: UserWarning: Arguments other than a weight enum or `None` for 'weights' are deprecated since 0.13 and may be removed in the future. The current behavior is equivalent to passing `weights=ResNet18_Weights.IMAGENET1K_V1`. You can also use `weights=ResNet18_Weights.DEFAULT` to get the most up-to-date weights.\n",
            "  warnings.warn(msg)\n"
          ]
        },
        {
          "output_type": "stream",
          "name": "stdout",
          "text": [
            "Downloading: \"https://download.pytorch.org/models/resnet18-f37072fd.pth\" to /root/.cache/torch/hub/checkpoints/resnet18-f37072fd.pth\n"
          ]
        },
        {
          "output_type": "stream",
          "name": "stderr",
          "text": [
            "100%|██████████| 44.7M/44.7M [00:00<00:00, 139MB/s]\n"
          ]
        }
      ]
    },
    {
      "cell_type": "code",
      "execution_count": null,
      "metadata": {
        "id": "seLgDhA9Udm2"
      },
      "outputs": [],
      "source": [
        "# 載入 MNIST 資料並進行影像前處理\n",
        "# PyTorch 官方範例連結：https://github.com/pytorch/examples/blob/main/mnist_forward_forward/main.py#L160C23-L160C43\n",
        "\n",
        "# 資料前處理管線\n",
        "if MODEL_NAME == \"resnet-18\":\n",
        "    transform = transforms.Compose(\n",
        "        [\n",
        "            transforms.Resize((224, 224)),\n",
        "            transforms.Grayscale(num_output_channels=3),  # 把 1-channel 轉成 3-channel\n",
        "            transforms.ToTensor(),\n",
        "            transforms.Normalize((0.5, 0.5, 0.5), (0.5, 0.5, 0.5)),\n",
        "        ]\n",
        "    )\n",
        "elif MODEL_NAME == \"MLP\":\n",
        "    transform = transforms.Compose([transforms.ToTensor(),])\n",
        "else:\n",
        "    raise NotImplementedError\n",
        "\n",
        "\n",
        "# 載入 MNIST 資料\n",
        "# `train=False` 代表載入 test 資料\n",
        "trainset = torchvision.datasets.MNIST(root='./data', train=True, download=True, transform=transform)\n",
        "testset = torchvision.datasets.MNIST(root='./data', train=False, download=True, transform=transform)"
      ]
    },
    {
      "cell_type": "code",
      "execution_count": null,
      "metadata": {
        "colab": {
          "base_uri": "https://localhost:8080/"
        },
        "id": "7B4s0T5PW7Lh",
        "outputId": "ea4ae96c-cd5d-427d-92e4-940cfd7a8caa"
      },
      "outputs": [
        {
          "output_type": "stream",
          "name": "stdout",
          "text": [
            "MNIST 訓練資料有 60000 筆\n",
            "MNIST 測試資料有 10000 筆\n"
          ]
        }
      ],
      "source": [
        "print(f\"MNIST 訓練資料有 {len(trainset)} 筆\")\n",
        "print(f\"MNIST 測試資料有 {len(testset)} 筆\")"
      ]
    },
    {
      "cell_type": "markdown",
      "metadata": {
        "id": "DGdJJvVhm5Fx"
      },
      "source": [
        "## 將資料分裝成 batches\n",
        "- 假設我們有一個資料集，進行機器學習時，我們會將資料分為：\n",
        "    - **訓練資料 (training data)**：用來訓練模型\n",
        "    - **驗證資料 (validation data)**：在訓練訓練階段，我們可能訓練了多個模型，要知道哪個模型是最好的則需要對模型進行測試，在模型訓練階段用以測試模型的資料我們稱為「驗證資料」\n",
        "    - **測試資料 (test data)**：完成模型訓練後，用來檢視模型真正成效的資料\n",
        "- 一般來說，我們會將訓練資料打亂 (`shuffle=True`)，驗證/測試資料不打亂\n",
        "- 我們可以使用 Scikit-learn 的 [`train_test_split`](https://scikit-learn.org/stable/modules/generated/sklearn.model_selection.train_test_split.html) 來進行資料切分"
      ]
    },
    {
      "cell_type": "code",
      "execution_count": null,
      "metadata": {
        "id": "azl0H9Aum5Fy"
      },
      "outputs": [],
      "source": [
        "# 把 validation set 從 training set 切出來 10%\n",
        "# random_state: Pass an int for reproducible output\n",
        "\n",
        "N = len(trainset)\n",
        "indices = torch.arange(N)\n",
        "\n",
        "train_idx, val_idx = train_test_split(\n",
        "    indices.numpy(),\n",
        "    test_size=0.1,\n",
        "    random_state=42,\n",
        ")\n",
        "\n",
        "trainset_sub = torch.utils.data.Subset(trainset, train_idx)\n",
        "valset   = torch.utils.data.Subset(trainset, val_idx)"
      ]
    },
    {
      "cell_type": "code",
      "execution_count": null,
      "metadata": {
        "id": "O6qFr1Dtm5Fy",
        "outputId": "676c1361-b354-4e80-9e08-dcd35d798c1d",
        "colab": {
          "base_uri": "https://localhost:8080/"
        }
      },
      "outputs": [
        {
          "output_type": "stream",
          "name": "stdout",
          "text": [
            "MNIST 訓練資料有 60000 筆\n",
            "MNIST 訓練資料有 6000 筆\n",
            "MNIST 測試資料有 10000 筆\n"
          ]
        }
      ],
      "source": [
        "print(f\"MNIST 訓練資料有 {len(trainset)} 筆\")\n",
        "print(f\"MNIST 訓練資料有 {len(valset)} 筆\")\n",
        "print(f\"MNIST 測試資料有 {len(testset)} 筆\")"
      ]
    },
    {
      "cell_type": "code",
      "execution_count": null,
      "metadata": {
        "id": "eFNlLA6Uonga"
      },
      "outputs": [],
      "source": [
        "train_loader = torch.utils.data.DataLoader(\n",
        "    trainset_sub,\n",
        "    batch_size=64,\n",
        "    shuffle=True,\n",
        ")\n",
        "val_loader = torch.utils.data.DataLoader(\n",
        "    valset,\n",
        "    batch_size=256,\n",
        "    shuffle=False,\n",
        ")\n",
        "test_loader = torch.utils.data.DataLoader(\n",
        "    testset,\n",
        "    batch_size=256,\n",
        "    shuffle=False,\n",
        ")"
      ]
    },
    {
      "cell_type": "markdown",
      "metadata": {
        "id": "7dJUm1qbm5Fy"
      },
      "source": [
        "## 取得 DataLoader 中的一個 Batch\n",
        "- 在 PyTorch 中，`DataLoader` 是一個 **可迭代對象 (iterable)**\n",
        "- 我們可以使用 **`iter()`** 和 **`next()`** 來手動取得一個 batch：\n",
        "```python\n",
        "images, labels = next(iter(train_loader))\n",
        "```"
      ]
    },
    {
      "cell_type": "code",
      "execution_count": null,
      "metadata": {
        "colab": {
          "base_uri": "https://localhost:8080/"
        },
        "id": "gKxY2fGCovOp",
        "outputId": "eee4f31e-d143-49eb-db4e-8e4d52a17f12"
      },
      "outputs": [
        {
          "output_type": "stream",
          "name": "stdout",
          "text": [
            "tensor([[[[-1., -1., -1.,  ..., -1., -1., -1.],\n",
            "          [-1., -1., -1.,  ..., -1., -1., -1.],\n",
            "          [-1., -1., -1.,  ..., -1., -1., -1.],\n",
            "          ...,\n",
            "          [-1., -1., -1.,  ..., -1., -1., -1.],\n",
            "          [-1., -1., -1.,  ..., -1., -1., -1.],\n",
            "          [-1., -1., -1.,  ..., -1., -1., -1.]],\n",
            "\n",
            "         [[-1., -1., -1.,  ..., -1., -1., -1.],\n",
            "          [-1., -1., -1.,  ..., -1., -1., -1.],\n",
            "          [-1., -1., -1.,  ..., -1., -1., -1.],\n",
            "          ...,\n",
            "          [-1., -1., -1.,  ..., -1., -1., -1.],\n",
            "          [-1., -1., -1.,  ..., -1., -1., -1.],\n",
            "          [-1., -1., -1.,  ..., -1., -1., -1.]],\n",
            "\n",
            "         [[-1., -1., -1.,  ..., -1., -1., -1.],\n",
            "          [-1., -1., -1.,  ..., -1., -1., -1.],\n",
            "          [-1., -1., -1.,  ..., -1., -1., -1.],\n",
            "          ...,\n",
            "          [-1., -1., -1.,  ..., -1., -1., -1.],\n",
            "          [-1., -1., -1.,  ..., -1., -1., -1.],\n",
            "          [-1., -1., -1.,  ..., -1., -1., -1.]]],\n",
            "\n",
            "\n",
            "        [[[-1., -1., -1.,  ..., -1., -1., -1.],\n",
            "          [-1., -1., -1.,  ..., -1., -1., -1.],\n",
            "          [-1., -1., -1.,  ..., -1., -1., -1.],\n",
            "          ...,\n",
            "          [-1., -1., -1.,  ..., -1., -1., -1.],\n",
            "          [-1., -1., -1.,  ..., -1., -1., -1.],\n",
            "          [-1., -1., -1.,  ..., -1., -1., -1.]],\n",
            "\n",
            "         [[-1., -1., -1.,  ..., -1., -1., -1.],\n",
            "          [-1., -1., -1.,  ..., -1., -1., -1.],\n",
            "          [-1., -1., -1.,  ..., -1., -1., -1.],\n",
            "          ...,\n",
            "          [-1., -1., -1.,  ..., -1., -1., -1.],\n",
            "          [-1., -1., -1.,  ..., -1., -1., -1.],\n",
            "          [-1., -1., -1.,  ..., -1., -1., -1.]],\n",
            "\n",
            "         [[-1., -1., -1.,  ..., -1., -1., -1.],\n",
            "          [-1., -1., -1.,  ..., -1., -1., -1.],\n",
            "          [-1., -1., -1.,  ..., -1., -1., -1.],\n",
            "          ...,\n",
            "          [-1., -1., -1.,  ..., -1., -1., -1.],\n",
            "          [-1., -1., -1.,  ..., -1., -1., -1.],\n",
            "          [-1., -1., -1.,  ..., -1., -1., -1.]]],\n",
            "\n",
            "\n",
            "        [[[-1., -1., -1.,  ..., -1., -1., -1.],\n",
            "          [-1., -1., -1.,  ..., -1., -1., -1.],\n",
            "          [-1., -1., -1.,  ..., -1., -1., -1.],\n",
            "          ...,\n",
            "          [-1., -1., -1.,  ..., -1., -1., -1.],\n",
            "          [-1., -1., -1.,  ..., -1., -1., -1.],\n",
            "          [-1., -1., -1.,  ..., -1., -1., -1.]],\n",
            "\n",
            "         [[-1., -1., -1.,  ..., -1., -1., -1.],\n",
            "          [-1., -1., -1.,  ..., -1., -1., -1.],\n",
            "          [-1., -1., -1.,  ..., -1., -1., -1.],\n",
            "          ...,\n",
            "          [-1., -1., -1.,  ..., -1., -1., -1.],\n",
            "          [-1., -1., -1.,  ..., -1., -1., -1.],\n",
            "          [-1., -1., -1.,  ..., -1., -1., -1.]],\n",
            "\n",
            "         [[-1., -1., -1.,  ..., -1., -1., -1.],\n",
            "          [-1., -1., -1.,  ..., -1., -1., -1.],\n",
            "          [-1., -1., -1.,  ..., -1., -1., -1.],\n",
            "          ...,\n",
            "          [-1., -1., -1.,  ..., -1., -1., -1.],\n",
            "          [-1., -1., -1.,  ..., -1., -1., -1.],\n",
            "          [-1., -1., -1.,  ..., -1., -1., -1.]]],\n",
            "\n",
            "\n",
            "        ...,\n",
            "\n",
            "\n",
            "        [[[-1., -1., -1.,  ..., -1., -1., -1.],\n",
            "          [-1., -1., -1.,  ..., -1., -1., -1.],\n",
            "          [-1., -1., -1.,  ..., -1., -1., -1.],\n",
            "          ...,\n",
            "          [-1., -1., -1.,  ..., -1., -1., -1.],\n",
            "          [-1., -1., -1.,  ..., -1., -1., -1.],\n",
            "          [-1., -1., -1.,  ..., -1., -1., -1.]],\n",
            "\n",
            "         [[-1., -1., -1.,  ..., -1., -1., -1.],\n",
            "          [-1., -1., -1.,  ..., -1., -1., -1.],\n",
            "          [-1., -1., -1.,  ..., -1., -1., -1.],\n",
            "          ...,\n",
            "          [-1., -1., -1.,  ..., -1., -1., -1.],\n",
            "          [-1., -1., -1.,  ..., -1., -1., -1.],\n",
            "          [-1., -1., -1.,  ..., -1., -1., -1.]],\n",
            "\n",
            "         [[-1., -1., -1.,  ..., -1., -1., -1.],\n",
            "          [-1., -1., -1.,  ..., -1., -1., -1.],\n",
            "          [-1., -1., -1.,  ..., -1., -1., -1.],\n",
            "          ...,\n",
            "          [-1., -1., -1.,  ..., -1., -1., -1.],\n",
            "          [-1., -1., -1.,  ..., -1., -1., -1.],\n",
            "          [-1., -1., -1.,  ..., -1., -1., -1.]]],\n",
            "\n",
            "\n",
            "        [[[-1., -1., -1.,  ..., -1., -1., -1.],\n",
            "          [-1., -1., -1.,  ..., -1., -1., -1.],\n",
            "          [-1., -1., -1.,  ..., -1., -1., -1.],\n",
            "          ...,\n",
            "          [-1., -1., -1.,  ..., -1., -1., -1.],\n",
            "          [-1., -1., -1.,  ..., -1., -1., -1.],\n",
            "          [-1., -1., -1.,  ..., -1., -1., -1.]],\n",
            "\n",
            "         [[-1., -1., -1.,  ..., -1., -1., -1.],\n",
            "          [-1., -1., -1.,  ..., -1., -1., -1.],\n",
            "          [-1., -1., -1.,  ..., -1., -1., -1.],\n",
            "          ...,\n",
            "          [-1., -1., -1.,  ..., -1., -1., -1.],\n",
            "          [-1., -1., -1.,  ..., -1., -1., -1.],\n",
            "          [-1., -1., -1.,  ..., -1., -1., -1.]],\n",
            "\n",
            "         [[-1., -1., -1.,  ..., -1., -1., -1.],\n",
            "          [-1., -1., -1.,  ..., -1., -1., -1.],\n",
            "          [-1., -1., -1.,  ..., -1., -1., -1.],\n",
            "          ...,\n",
            "          [-1., -1., -1.,  ..., -1., -1., -1.],\n",
            "          [-1., -1., -1.,  ..., -1., -1., -1.],\n",
            "          [-1., -1., -1.,  ..., -1., -1., -1.]]],\n",
            "\n",
            "\n",
            "        [[[-1., -1., -1.,  ..., -1., -1., -1.],\n",
            "          [-1., -1., -1.,  ..., -1., -1., -1.],\n",
            "          [-1., -1., -1.,  ..., -1., -1., -1.],\n",
            "          ...,\n",
            "          [-1., -1., -1.,  ..., -1., -1., -1.],\n",
            "          [-1., -1., -1.,  ..., -1., -1., -1.],\n",
            "          [-1., -1., -1.,  ..., -1., -1., -1.]],\n",
            "\n",
            "         [[-1., -1., -1.,  ..., -1., -1., -1.],\n",
            "          [-1., -1., -1.,  ..., -1., -1., -1.],\n",
            "          [-1., -1., -1.,  ..., -1., -1., -1.],\n",
            "          ...,\n",
            "          [-1., -1., -1.,  ..., -1., -1., -1.],\n",
            "          [-1., -1., -1.,  ..., -1., -1., -1.],\n",
            "          [-1., -1., -1.,  ..., -1., -1., -1.]],\n",
            "\n",
            "         [[-1., -1., -1.,  ..., -1., -1., -1.],\n",
            "          [-1., -1., -1.,  ..., -1., -1., -1.],\n",
            "          [-1., -1., -1.,  ..., -1., -1., -1.],\n",
            "          ...,\n",
            "          [-1., -1., -1.,  ..., -1., -1., -1.],\n",
            "          [-1., -1., -1.,  ..., -1., -1., -1.],\n",
            "          [-1., -1., -1.,  ..., -1., -1., -1.]]]])\n",
            "tensor([9, 5, 8, 8, 3, 0, 2, 0, 1, 1, 6, 7, 4, 6, 0, 3, 6, 3, 9, 2, 7, 1, 7, 1,\n",
            "        9, 5, 5, 8, 6, 1, 0, 6, 3, 3, 7, 9, 0, 6, 9, 9, 0, 1, 6, 7, 9, 9, 7, 2,\n",
            "        1, 3, 0, 1, 4, 7, 9, 2, 3, 5, 1, 1, 9, 6, 0, 8])\n",
            "torch.Size([64, 3, 224, 224])\n",
            "torch.Size([64])\n"
          ]
        }
      ],
      "source": [
        "# 觀察 batches 資料\n",
        "\n",
        "train_iter = iter(train_loader)  # 取得迭代器\n",
        "batch_x, batch_y = next(train_iter) # 取出一個 batch\n",
        "print(batch_x)\n",
        "print(batch_y)\n",
        "print(batch_x.shape)\n",
        "print(batch_y.shape)"
      ]
    },
    {
      "cell_type": "code",
      "execution_count": null,
      "metadata": {
        "id": "YXRE6dJmm5Fz",
        "outputId": "f6c7d17f-adc8-418f-a9dc-36d9cb310afe",
        "colab": {
          "base_uri": "https://localhost:8080/"
        }
      },
      "outputs": [
        {
          "output_type": "stream",
          "name": "stdout",
          "text": [
            "tensor([2, 6, 3, 2, 9, 7, 1, 3, 5, 9, 8, 9, 8, 9, 8, 3, 6, 5, 1, 8, 7, 9, 6, 3,\n",
            "        5, 8, 2, 4, 0, 4, 8, 4, 7, 7, 6, 6, 7, 2, 1, 5, 0, 8, 8, 0, 4, 5, 4, 3,\n",
            "        4, 7, 3, 4, 7, 1, 2, 8, 7, 6, 9, 8, 4, 1, 0, 5])\n",
            "torch.Size([64])\n"
          ]
        }
      ],
      "source": [
        "# 每次進行 next() 就會取得下一次的迭代\n",
        "\n",
        "_, batch_y = next(train_iter) # 這邊就單純觀察 y 就好\n",
        "print(batch_y)\n",
        "print(batch_y.shape)"
      ]
    },
    {
      "cell_type": "markdown",
      "source": [
        "## Helper functions"
      ],
      "metadata": {
        "id": "Px6hG_iyO-B1"
      }
    },
    {
      "cell_type": "code",
      "source": [
        "def train_epoch(\n",
        "    model: nn.Module,\n",
        "    data_loader: torch.utils.data.DataLoader,\n",
        "    optimizer: torch.optim.Optimizer,\n",
        "    loss_fn: torch.nn.Module,\n",
        "    device: torch.device,\n",
        "):\n",
        "    \"\"\"\n",
        "    執行一個訓練 epoch 的函式\n",
        "    \"\"\"\n",
        "    model.train() # 確保 model 是在訓練模式\n",
        "    total_loss = 0 # 紀錄 loss 數值\n",
        "\n",
        "    progress_bar = tqdm(data_loader, desc=\"Training\")\n",
        "    for batch in progress_bar:\n",
        "        # 把資料移動到 GPU\n",
        "        images, labels = batch[0].to(device), batch[1].to(device)\n",
        "\n",
        "        optimizer.zero_grad()\n",
        "\n",
        "        # 1. 前向傳播\n",
        "        outputs = model(images)\n",
        "        loss = loss_fn(outputs, labels)\n",
        "\n",
        "        # 2. 反向傳播 (計算梯度)\n",
        "        loss.backward()\n",
        "\n",
        "        # 3. 更新模型權重\n",
        "        optimizer.step()\n",
        "\n",
        "        # 儲存 loss 數值\n",
        "        total_loss += loss.item()\n",
        "\n",
        "        progress_bar.set_postfix({\n",
        "            'loss': f\"{total_loss / (progress_bar.n + 1):.4f}\",\n",
        "        })\n",
        "    return total_loss / len(data_loader) # 回傳平均每筆資料的 loss"
      ],
      "metadata": {
        "id": "HDC9thMEDMRx"
      },
      "execution_count": null,
      "outputs": []
    },
    {
      "cell_type": "markdown",
      "metadata": {
        "id": "dsb0cvRrm5F0"
      },
      "source": [
        "### 計算分數\n",
        "- 我們可以使用 Scikit-learn 的 [`accuracy_score`](https://scikit-learn.org/stable/modules/generated/sklearn.metrics.accuracy_score.html) 來幫我們計算準確率 (Accuracy)：\n",
        "```python\n",
        "sklearn.metrics.accuracy_score(y_true, y_pred, *, normalize=True, sample_weight=None)\n",
        "```"
      ]
    },
    {
      "cell_type": "code",
      "source": [
        "def do_eval(\n",
        "    model: nn.Module,\n",
        "    data_loader: torch.utils.data.DataLoader,\n",
        "    loss_fn: torch.nn.Module,\n",
        "    device: torch.device,\n",
        "):\n",
        "    \"\"\"\n",
        "    執行一個評估 epoch 的函式\n",
        "    \"\"\"\n",
        "    model.eval() # 確保 model 是在評估模式\n",
        "    total_loss = 0 # 紀錄 loss 數值\n",
        "    label_list = []\n",
        "    prediction_list = []\n",
        "\n",
        "    progress_bar = tqdm(data_loader, desc=\"Evaluating\")\n",
        "    with torch.no_grad():\n",
        "        for batch in progress_bar:\n",
        "            images, labels = batch[0].to(device), batch[1].to(device)\n",
        "            outputs = model(images) # `outputs` 的形狀是 (batch_size, 10)\n",
        "            # print(outputs.shape)\n",
        "            loss = loss_fn(outputs, labels)\n",
        "            total_loss += loss.item()\n",
        "\n",
        "            prediction = outputs.argmax(dim=1) # `prediction` 的型態是 tensor\n",
        "\n",
        "            # 我們希望 `predictions` 的長相是 [1, 2, 0, 4, 5, 7, ...]\n",
        "            # 如果用 append 的話可能會變成 [[1, 2, 0], [4, 5, 7], ...]\n",
        "            prediction_list.extend(prediction.tolist())\n",
        "\n",
        "            label_list.extend(labels.tolist())\n",
        "\n",
        "    avg_loss = total_loss / len(data_loader)\n",
        "    accuracy = accuracy_score(label_list, prediction_list)\n",
        "    return avg_loss, accuracy, label_list, prediction_list"
      ],
      "metadata": {
        "id": "SKaBp90LEmri"
      },
      "execution_count": null,
      "outputs": []
    },
    {
      "cell_type": "markdown",
      "metadata": {
        "id": "4PZi3GkEm5Fz"
      },
      "source": [
        "## 訓練模型"
      ]
    },
    {
      "cell_type": "code",
      "execution_count": null,
      "metadata": {
        "id": "nDAzYVwOoKLc"
      },
      "outputs": [],
      "source": [
        "# 設定設備\n",
        "device = torch.device(\"cuda\" if torch.cuda.is_available() else \"cpu\")"
      ]
    },
    {
      "cell_type": "code",
      "execution_count": null,
      "metadata": {
        "id": "TwXlhJe9m5Fz"
      },
      "outputs": [],
      "source": [
        "# 初始化模型、損失函數、optimizer\n",
        "\n",
        "model.to(device)\n",
        "criterion = nn.CrossEntropyLoss()\n",
        "optimizer = optim.Adam(model.parameters(), lr=0.001)"
      ]
    },
    {
      "cell_type": "code",
      "execution_count": null,
      "metadata": {
        "colab": {
          "base_uri": "https://localhost:8080/",
          "height": 425
        },
        "id": "umIWbv-JoQ7r",
        "outputId": "d2b3c338-2937-4b61-bacd-5608c315eb28"
      },
      "outputs": [
        {
          "output_type": "stream",
          "name": "stderr",
          "text": [
            "Training: 100%|██████████| 844/844 [04:18<00:00,  3.27it/s, loss=0.0685]\n",
            "Evaluating: 100%|██████████| 24/24 [00:17<00:00,  1.41it/s]\n"
          ]
        },
        {
          "output_type": "stream",
          "name": "stdout",
          "text": [
            "\n",
            "Epoch 1/10 | Train Loss: 0.0685 | Val Loss: 0.0718 | Val Acc: 0.9788\n"
          ]
        },
        {
          "output_type": "stream",
          "name": "stderr",
          "text": [
            "Training:   5%|▌         | 46/844 [00:14<04:05,  3.25it/s, loss=0.0261]\n"
          ]
        },
        {
          "output_type": "error",
          "ename": "KeyboardInterrupt",
          "evalue": "",
          "traceback": [
            "\u001b[0;31m---------------------------------------------------------------------------\u001b[0m",
            "\u001b[0;31mKeyboardInterrupt\u001b[0m                         Traceback (most recent call last)",
            "\u001b[0;32m/tmp/ipython-input-1061981942.py\u001b[0m in \u001b[0;36m<cell line: 0>\u001b[0;34m()\u001b[0m\n\u001b[1;32m      5\u001b[0m \u001b[0;34m\u001b[0m\u001b[0m\n\u001b[1;32m      6\u001b[0m \u001b[0;32mfor\u001b[0m \u001b[0mepoch\u001b[0m \u001b[0;32min\u001b[0m \u001b[0mrange\u001b[0m\u001b[0;34m(\u001b[0m\u001b[0mepochs\u001b[0m\u001b[0;34m)\u001b[0m\u001b[0;34m:\u001b[0m\u001b[0;34m\u001b[0m\u001b[0;34m\u001b[0m\u001b[0m\n\u001b[0;32m----> 7\u001b[0;31m     train_loss_epoch = train_epoch(\n\u001b[0m\u001b[1;32m      8\u001b[0m         \u001b[0mmodel\u001b[0m\u001b[0;34m=\u001b[0m\u001b[0mmodel\u001b[0m\u001b[0;34m,\u001b[0m\u001b[0;34m\u001b[0m\u001b[0;34m\u001b[0m\u001b[0m\n\u001b[1;32m      9\u001b[0m         \u001b[0mdata_loader\u001b[0m\u001b[0;34m=\u001b[0m\u001b[0mtrain_loader\u001b[0m\u001b[0;34m,\u001b[0m\u001b[0;34m\u001b[0m\u001b[0;34m\u001b[0m\u001b[0m\n",
            "\u001b[0;32m/tmp/ipython-input-3901162966.py\u001b[0m in \u001b[0;36mtrain_epoch\u001b[0;34m(model, data_loader, optimizer, loss_fn, device)\u001b[0m\n\u001b[1;32m     30\u001b[0m \u001b[0;34m\u001b[0m\u001b[0m\n\u001b[1;32m     31\u001b[0m         \u001b[0;31m# 儲存 loss 數值\u001b[0m\u001b[0;34m\u001b[0m\u001b[0;34m\u001b[0m\u001b[0m\n\u001b[0;32m---> 32\u001b[0;31m         \u001b[0mtotal_loss\u001b[0m \u001b[0;34m+=\u001b[0m \u001b[0mloss\u001b[0m\u001b[0;34m.\u001b[0m\u001b[0mitem\u001b[0m\u001b[0;34m(\u001b[0m\u001b[0;34m)\u001b[0m\u001b[0;34m\u001b[0m\u001b[0;34m\u001b[0m\u001b[0m\n\u001b[0m\u001b[1;32m     33\u001b[0m \u001b[0;34m\u001b[0m\u001b[0m\n\u001b[1;32m     34\u001b[0m         progress_bar.set_postfix({\n",
            "\u001b[0;31mKeyboardInterrupt\u001b[0m: "
          ]
        }
      ],
      "source": [
        "# 訓練模型\n",
        "\n",
        "epochs = 10 # MLP 可以訓練久一點，ResNet-18 只需要 1 個 epoch就夠了\n",
        "train_losses, val_losses = [], []\n",
        "\n",
        "for epoch in range(epochs):\n",
        "    train_loss_epoch = train_epoch(\n",
        "        model=model,\n",
        "        data_loader=train_loader,\n",
        "        optimizer=optimizer,\n",
        "        loss_fn=criterion,\n",
        "        device=device,\n",
        "    )\n",
        "    train_losses.append(train_loss_epoch)\n",
        "\n",
        "    # 驗證模型\n",
        "    val_loss, val_acc, _, _ = do_eval(\n",
        "        model=model,\n",
        "        data_loader=val_loader,\n",
        "        loss_fn=criterion,\n",
        "        device=device,\n",
        "    )\n",
        "    val_losses.append(val_loss)\n",
        "\n",
        "    print()\n",
        "    print(f\"Epoch {epoch+1}/{epochs} | Train Loss: {train_loss_epoch:.4f} | Val Loss: {val_loss:.4f} | Val Acc: {val_acc:.4f}\")"
      ]
    },
    {
      "cell_type": "markdown",
      "source": [
        "## 測試訓練完的模型"
      ],
      "metadata": {
        "id": "cL9AglMDPHlF"
      }
    },
    {
      "cell_type": "code",
      "execution_count": null,
      "metadata": {
        "id": "ShLm9kpsm5F0"
      },
      "outputs": [],
      "source": [
        "# 測試訓練完的模型\n",
        "test_loss, test_acc, _, _ = do_eval(\n",
        "    model=model,\n",
        "    data_loader=test_loader,\n",
        "    loss_fn=criterion,\n",
        "    device=device,\n",
        ")\n",
        "print()\n",
        "print(f\"Test Loss: {test_loss:.4f} | Test Acc: {test_acc:.4f}\")"
      ]
    },
    {
      "cell_type": "code",
      "source": [
        "def plot_loss_history(train_losses: list, val_losses: list):\n",
        "    \"\"\"\n",
        "    繪製訓練過程的 Training Loss 和 Validation Loss 曲線。\n",
        "\n",
        "    Args:\n",
        "        train_losses (list): 訓練集的 loss 歷史記錄。\n",
        "        val_losses (list): 驗證集的 loss 歷史記錄。\n",
        "    \"\"\"\n",
        "    # 繪製 loss 的歷史記錄圖\n",
        "    plt.plot(range(1, epochs+1), train_losses, label='Train Loss')\n",
        "    plt.plot(range(1, epochs+1), val_losses, label='Validation Loss')\n",
        "    plt.xlabel('Epochs')\n",
        "    plt.xlim([1, epochs])\n",
        "    plt.ylabel('Loss')\n",
        "    plt.legend()\n",
        "    plt.title('Training and Validation Loss')\n",
        "    plt.show()\n",
        "\n",
        "plot_loss_history(train_losses, val_losses)"
      ],
      "metadata": {
        "id": "bQ3rq9r2RJ53"
      },
      "execution_count": null,
      "outputs": []
    }
  ],
  "metadata": {
    "accelerator": "GPU",
    "colab": {
      "gpuType": "T4",
      "provenance": [],
      "toc_visible": true
    },
    "kernelspec": {
      "display_name": "base",
      "language": "python",
      "name": "base"
    },
    "language_info": {
      "codemirror_mode": {
        "name": "ipython",
        "version": 3
      },
      "file_extension": ".py",
      "mimetype": "text/x-python",
      "name": "python",
      "nbconvert_exporter": "python",
      "pygments_lexer": "ipython3",
      "version": "3.8.5"
    }
  },
  "nbformat": 4,
  "nbformat_minor": 0
}